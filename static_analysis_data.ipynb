{
 "cells": [
  {
   "cell_type": "markdown",
   "source": [],
   "metadata": {
    "collapsed": false
   },
   "id": "62ffcc5b5882607f"
  },
  {
   "cell_type": "code",
   "outputs": [],
   "source": [
    "import json\n",
    "import pandas as pd\n",
    "\n",
    "def json_to_csv(json_file):\n",
    "    \n",
    "    with open(json_file) as file:\n",
    "        parsed_data = json.load(file)\n",
    "    \n",
    "    for issue in parsed_data['issues']:\n",
    "        issue['line_number'] = issue['textRange']['startLine']\n",
    "        issue['file_path'] = issue.pop('component')\n",
    "        issue['description'] = issue.pop('message')\n",
    "        impact = issue['impacts'][0]\n",
    "        issue['software_quality'] = impact['softwareQuality']\n",
    "        issue['severity_impact'] = impact['severity']\n",
    "        del issue['impacts']\n",
    "    \n",
    "    df = pd.DataFrame(parsed_data['issues'])\n",
    "    \n",
    "    write_path = json_file.replace('.json', '.csv')\n",
    "    \n",
    "    df[['file_path','line_number','type','severity','description']].to_csv(write_path, index=False)\n",
    "\n",
    "data_paths = [\n",
    "    \"sonarcloud_data/sonarcloud_ebean.json\",\n",
    "    \"sonarcloud_data/sonarcloud_hibernate-orm.json\",\n",
    "    \"sonarcloud_data/sonarcloud_openjpa.json\",\n",
    "    \"sonarcloud_data/sonarcloud_ponyorm.json\",\n",
    "    \"sonarcloud_data/sonarcloud_sqlalchemy.json\",\n",
    "]\n",
    "\n",
    "for path in data_paths:\n",
    "    json_to_csv(path)"
   ],
   "metadata": {
    "collapsed": false,
    "ExecuteTime": {
     "end_time": "2024-04-04T21:28:06.515939Z",
     "start_time": "2024-04-04T21:28:06.459440Z"
    }
   },
   "id": "de8dc6c2ee0e3c50",
   "execution_count": 19
  },
  {
   "cell_type": "markdown",
   "source": [],
   "metadata": {
    "collapsed": false
   },
   "id": "6e4fa1521a4d7304"
  }
 ],
 "metadata": {
  "kernelspec": {
   "display_name": "Python 3",
   "language": "python",
   "name": "python3"
  },
  "language_info": {
   "codemirror_mode": {
    "name": "ipython",
    "version": 2
   },
   "file_extension": ".py",
   "mimetype": "text/x-python",
   "name": "python",
   "nbconvert_exporter": "python",
   "pygments_lexer": "ipython2",
   "version": "2.7.6"
  }
 },
 "nbformat": 4,
 "nbformat_minor": 5
}

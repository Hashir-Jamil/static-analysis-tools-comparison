{
 "cells": [
  {
   "cell_type": "markdown",
   "source": [],
   "metadata": {
    "collapsed": false
   },
   "id": "62ffcc5b5882607f"
  },
  {
   "cell_type": "code",
   "outputs": [],
   "source": [
    "import json\n",
    "import pandas as pd\n",
    "\n",
    "with open('sonarcloud_data/sonarcloud_ponyorm.json') as file:\n",
    "    ponyorm_json = json.load(file)\n",
    "\n",
    "for issue in ponyorm_json['issues']:\n",
    "    issue['text_range'] = issue.pop('textRange')\n",
    "    impact = issue['impacts'][0]\n",
    "    issue['software_quality'] = impact['softwareQuality']\n",
    "    issue['severity_impact'] = impact['severity']\n",
    "    del issue['impacts']\n",
    "\n",
    "ponyorm_df = pd.DataFrame(ponyorm_json['issues'])\n",
    "\n",
    "ponyorm_df[['project','component','type','severity','text_range','tags','software_quality','severity_impact','message']].to_csv('sonarcloud_ponyorm.csv', index=False)\n",
    "\n"
   ],
   "metadata": {
    "collapsed": false,
    "ExecuteTime": {
     "end_time": "2024-04-04T21:13:35.506959Z",
     "start_time": "2024-04-04T21:13:35.499958Z"
    }
   },
   "id": "de8dc6c2ee0e3c50",
   "execution_count": 14
  },
  {
   "cell_type": "markdown",
   "source": [],
   "metadata": {
    "collapsed": false
   },
   "id": "6e4fa1521a4d7304"
  }
 ],
 "metadata": {
  "kernelspec": {
   "display_name": "Python 3",
   "language": "python",
   "name": "python3"
  },
  "language_info": {
   "codemirror_mode": {
    "name": "ipython",
    "version": 2
   },
   "file_extension": ".py",
   "mimetype": "text/x-python",
   "name": "python",
   "nbconvert_exporter": "python",
   "pygments_lexer": "ipython2",
   "version": "2.7.6"
  }
 },
 "nbformat": 4,
 "nbformat_minor": 5
}
